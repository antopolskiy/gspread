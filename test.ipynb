{
 "cells": [
  {
   "cell_type": "code",
   "execution_count": 1,
   "id": "0e82239f-1a2f-4b4f-ba28-3589901fa50f",
   "metadata": {},
   "outputs": [],
   "source": [
    "import gspread"
   ]
  },
  {
   "cell_type": "code",
   "execution_count": 5,
   "id": "6c3bbaed-5847-4cec-9c24-25b06d924984",
   "metadata": {},
   "outputs": [],
   "source": [
    "gc = gspread.service_account(\"path-to-credentials.json\")\n",
    "\n",
    "# Open a sheet from a spreadsheet in one go\n",
    "wks = gc.open(\"breast_cancer_meds\").sheet1"
   ]
  },
  {
   "cell_type": "code",
   "execution_count": 16,
   "id": "8a71b2b0-564d-488b-9d3a-1c35d07f4f6f",
   "metadata": {},
   "outputs": [],
   "source": [
    "sh = gc.create(\"A new spreadsheet\")\n",
    "sh.share('my-google-user@gmail.com', perm_type='user', role='writer')"
   ]
  },
  {
   "cell_type": "code",
   "execution_count": 22,
   "id": "082807f5-48e4-4206-81c9-1449f58a2d79",
   "metadata": {},
   "outputs": [],
   "source": [
    "gc.del_spreadsheet(sh.id)"
   ]
  }
 ],
 "metadata": {
  "kernelspec": {
   "display_name": "gspread-test",
   "language": "python",
   "name": "gspread-test"
  },
  "language_info": {
   "codemirror_mode": {
    "name": "ipython",
    "version": 3
   },
   "file_extension": ".py",
   "mimetype": "text/x-python",
   "name": "python",
   "nbconvert_exporter": "python",
   "pygments_lexer": "ipython3",
   "version": "3.8.5"
  }
 },
 "nbformat": 4,
 "nbformat_minor": 5
}
